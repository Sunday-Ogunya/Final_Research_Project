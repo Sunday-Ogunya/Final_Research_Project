{
  "nbformat": 4,
  "nbformat_minor": 0,
  "metadata": {
    "colab": {
      "provenance": []
    },
    "kernelspec": {
      "name": "python3",
      "display_name": "Python 3"
    },
    "language_info": {
      "name": "python"
    }
  },
  "cells": [
    {
      "cell_type": "markdown",
      "source": [
        "1.IMPORTING LIBRARIES"
      ],
      "metadata": {
        "id": "4UrLMHlq1QLh"
      }
    },
    {
      "cell_type": "code",
      "execution_count": 1,
      "metadata": {
        "id": "AH5axKb401DY"
      },
      "outputs": [],
      "source": [
        "import pandas as pd\n",
        "import numpy as np\n",
        "from sklearn.model_selection import train_test_split, GridSearchCV\n",
        "from sklearn.preprocessing import StandardScaler\n",
        "from sklearn.linear_model import Ridge\n",
        "from sklearn.svm import SVR\n",
        "from sklearn.metrics import mean_squared_error, mean_absolute_error, r2_score\n",
        "from sklearn.inspection import permutation_importance\n",
        "import matplotlib.pyplot as plt"
      ]
    },
    {
      "cell_type": "markdown",
      "source": [
        "2.  LOADING DATA AND DEFINING FEATURES\n"
      ],
      "metadata": {
        "id": "ZvEdQ1g71ci7"
      }
    },
    {
      "cell_type": "code",
      "source": [
        "df = pd.read_csv('enhanced_dataset_for_modelling.csv')\n",
        "df = df.dropna()             # drop any missing rows\n",
        "\n",
        "X = df.drop(columns=['CPI']) # all columns except target\n",
        "y = df['CPI']"
      ],
      "metadata": {
        "id": "pfoI7TuZ1uQV"
      },
      "execution_count": 2,
      "outputs": []
    },
    {
      "cell_type": "markdown",
      "source": [
        "3.  TRAIN AND TEST SPLIT"
      ],
      "metadata": {
        "id": "JNnQ-QRz11FP"
      }
    },
    {
      "cell_type": "code",
      "source": [
        "# 80% train / 20% test (no shuffle for time series)\n",
        "X_train, X_test, y_train, y_test = train_test_split(\n",
        "    X, y, test_size=0.2, shuffle=False)\n",
        "\n",
        "# Drop the 'Date' column as it's not a numerical feature\n",
        "X_train = X_train.drop(columns=['Date'])\n",
        "X_test = X_test.drop(columns=['Date'])\n",
        "\n",
        "# standardize inputs\n",
        "scaler = StandardScaler()\n",
        "X_train_scaled = scaler.fit_transform(X_train)\n",
        "X_test_scaled  = scaler.transform(X_test)"
      ],
      "metadata": {
        "id": "OiVjfpEG18Kq"
      },
      "execution_count": 5,
      "outputs": []
    },
    {
      "cell_type": "markdown",
      "source": [
        "RIDGE REGRESSION TRAINING DEFAULT"
      ],
      "metadata": {
        "id": "h6O_Evs_4YCv"
      }
    },
    {
      "cell_type": "code",
      "source": [
        "ridge_def = Ridge()\n",
        "ridge_def.fit(X_train_scaled, y_train)\n",
        "\n",
        "y_tr_def = ridge_def.predict(X_train_scaled)\n",
        "y_te_def = ridge_def.predict(X_test_scaled)\n",
        "\n",
        "def print_metrics(label, y_true, y_pred):\n",
        "    rmse = np.sqrt(mean_squared_error(y_true, y_pred))\n",
        "    mae  = mean_absolute_error(y_true, y_pred)\n",
        "    r2   = r2_score(y_true, y_pred)\n",
        "    print(f\"{label:6} → RMSE: {rmse:.3f}, MAE: {mae:.3f}, R²: {r2:.3f}\")\n",
        "\n",
        "print(\"Ridge (default) Performance\")\n",
        "print_metrics(\" Train\", y_train, y_tr_def)\n",
        "print_metrics(\" Test \", y_test,  y_te_def)"
      ],
      "metadata": {
        "colab": {
          "base_uri": "https://localhost:8080/"
        },
        "id": "f2oj3o7X4x0H",
        "outputId": "3eafc0a6-01bc-4e9d-c97a-9431746a9c79"
      },
      "execution_count": 6,
      "outputs": [
        {
          "output_type": "stream",
          "name": "stdout",
          "text": [
            "Ridge (default) Performance\n",
            " Train → RMSE: 0.312, MAE: 0.236, R²: 0.989\n",
            " Test  → RMSE: 0.652, MAE: 0.508, R²: 0.987\n"
          ]
        }
      ]
    },
    {
      "cell_type": "markdown",
      "source": [
        "5.   RIDGE REGRESSION TUNING"
      ],
      "metadata": {
        "id": "3PBSnFWz46XO"
      }
    },
    {
      "cell_type": "code",
      "source": [
        "import numpy as np\n",
        "import pandas as pd\n",
        "import math\n",
        "\n",
        "from sklearn.pipeline import Pipeline\n",
        "from sklearn.preprocessing import StandardScaler\n",
        "from sklearn.linear_model import Ridge\n",
        "from sklearn.model_selection import TimeSeriesSplit, GridSearchCV\n",
        "from sklearn.metrics import mean_squared_error, mean_absolute_error, r2_score\n",
        "\n",
        "# 1. Build a leak-proof pipeline: scaling → ridge\n",
        "pipeline = Pipeline([\n",
        "    (\"scaler\", StandardScaler()),\n",
        "    (\"ridge\",  Ridge())\n",
        "])\n",
        "\n",
        "# 2. Hyperparameter grid: alpha from 1e-3 to 1e3\n",
        "param_grid = {\n",
        "    \"ridge__alpha\": np.logspace(-3, 3, 13)\n",
        "}\n",
        "\n",
        "# 3. TimeSeriesSplit to respect temporal order\n",
        "cv_split = TimeSeriesSplit(n_splits=4)\n",
        "\n",
        "# 4. Track multiple metrics; refit on best RMSE\n",
        "scoring = {\n",
        "    \"rmse\": \"neg_root_mean_squared_error\",\n",
        "    \"mae\":  \"neg_mean_absolute_error\",\n",
        "    \"r2\":   \"r2\"\n",
        "}\n",
        "\n",
        "grid_search = GridSearchCV(\n",
        "    estimator=pipeline,\n",
        "    param_grid=param_grid,\n",
        "    cv=cv_split,\n",
        "    scoring=scoring,\n",
        "    refit=\"rmse\",\n",
        "    return_train_score=True,\n",
        "    n_jobs=-1\n",
        ")\n",
        "\n",
        "# 5. Fit on your training data\n",
        "grid_search.fit(X_train, y_train)\n",
        "\n",
        "# 6. Pull out the best alpha and model\n",
        "best_alpha = grid_search.best_params_[\"ridge__alpha\"]\n",
        "best_model = grid_search.best_estimator_\n",
        "\n",
        "print(f\"Optimal alpha (by CV RMSE): {best_alpha:.4f}\")\n",
        "\n",
        "# 7. Final evaluation on train & test sets\n",
        "y_pred_train = best_model.predict(X_train)\n",
        "y_pred_test  = best_model.predict(X_test)\n",
        "\n",
        "results = {\n",
        "    \"R2_train\":  r2_score(y_train, y_pred_train),\n",
        "    \"R2_test\":   r2_score(y_test,  y_pred_test),\n",
        "    \"MAE_test\":  mean_absolute_error(y_test,  y_pred_test),\n",
        "    \"RMSE_test\": math.sqrt(mean_squared_error(y_test, y_pred_test))\n",
        "}\n",
        "\n",
        "print(\"\\nFinal evaluation on hold-out set:\")\n",
        "for metric, val in results.items():\n",
        "    print(f\"  {metric}: {val:.4f}\")\n",
        "\n",
        "# 8. (Optional) Inspect CV summaries for deeper diagnostics\n",
        "cv_df = pd.DataFrame(grid_search.cv_results_)[[\n",
        "    \"param_ridge__alpha\",\n",
        "    \"mean_train_rmse\", \"mean_test_rmse\",\n",
        "    \"mean_train_r2\",   \"mean_test_r2\"\n",
        "]].sort_values(\"param_ridge__alpha\")\n",
        "\n",
        "print(\"\\nCross-validation summary by alpha:\")\n",
        "print(cv_df.to_string(index=False))"
      ],
      "metadata": {
        "colab": {
          "base_uri": "https://localhost:8080/"
        },
        "id": "ywoo43vQ6tKv",
        "outputId": "6a82aded-8a62-43fd-f441-0e00d654585d"
      },
      "execution_count": 7,
      "outputs": [
        {
          "output_type": "stream",
          "name": "stdout",
          "text": [
            "Optimal alpha (by CV RMSE): 0.0010\n",
            "\n",
            "Final evaluation on hold-out set:\n",
            "  R2_train: 0.9902\n",
            "  R2_test: 0.9559\n",
            "  MAE_test: 0.8454\n",
            "  RMSE_test: 1.1944\n",
            "\n",
            "Cross-validation summary by alpha:\n",
            " param_ridge__alpha  mean_train_rmse  mean_test_rmse  mean_train_r2  mean_test_r2\n",
            "           0.001000        -0.263458       -0.687978       0.992968      0.588585\n",
            "           0.003162        -0.263717       -0.721010       0.992955      0.508695\n",
            "           0.010000        -0.264942       -0.771358       0.992890      0.372955\n",
            "           0.031623        -0.268175       -0.822267       0.992709      0.219770\n",
            "           0.100000        -0.272604       -0.880095       0.992456      0.021541\n",
            "           0.316228        -0.277015       -0.980445       0.992217     -0.383069\n",
            "           1.000000        -0.285669       -1.140469       0.991789     -1.131228\n",
            "           3.162278        -0.318368       -1.305098       0.989988     -1.828468\n",
            "          10.000000        -0.424367       -1.388928       0.982247     -1.709301\n",
            "          31.622777        -0.688018       -1.432470       0.952577     -1.101710\n",
            "         100.000000        -1.194189       -1.556880       0.856225     -0.874373\n",
            "         316.227766        -1.886188       -1.928294       0.645260     -1.343386\n",
            "        1000.000000        -2.522416       -2.364653       0.370773     -2.076967\n"
          ]
        }
      ]
    },
    {
      "cell_type": "markdown",
      "source": [
        "6.   RIDGE: INSPECT CROSS VALIDATION AND GAP"
      ],
      "metadata": {
        "id": "eXQrwDXk7AMc"
      }
    },
    {
      "cell_type": "code",
      "source": [
        "cv_r = pd.DataFrame(grid_search.cv_results_)\n",
        "top3_r = cv_r.sort_values('mean_test_rmse', ascending=False).head(3)\n",
        "\n",
        "print(\"\\nTop 3 Ridge CV candidates (by RMSE):\")\n",
        "print(top3_r[['param_ridge__alpha','mean_train_rmse','mean_test_rmse', 'mean_train_r2', 'mean_test_r2']])\n",
        "\n",
        "# evaluate tuned model\n",
        "y_tr_r = best_model.predict(X_train)\n",
        "y_te_r = best_model.predict(X_test)\n",
        "\n",
        "print(\"\\nRidge (tuned) Performance\")\n",
        "print_metrics(\" Train\", y_train, y_tr_r)\n",
        "print_metrics(\" Test \", y_test,  y_te_r)\n",
        "\n",
        "# CV train vs CV val\n",
        "mask_r = cv_r['param_ridge__alpha']==best_model.named_steps['ridge'].alpha\n",
        "print(f\"\\nCV Train R²: {cv_r.loc[mask_r,'mean_train_r2'].values[0]:.3f}, \"\n",
        "      f\"CV Val R²: {cv_r.loc[mask_r,'mean_test_r2'].values[0]:.3f}\")"
      ],
      "metadata": {
        "colab": {
          "base_uri": "https://localhost:8080/"
        },
        "id": "43DqHYln7VFH",
        "outputId": "d9a8406b-e605-4d76-a869-ce37d46a16a2"
      },
      "execution_count": 10,
      "outputs": [
        {
          "output_type": "stream",
          "name": "stdout",
          "text": [
            "\n",
            "Top 3 Ridge CV candidates (by RMSE):\n",
            "   param_ridge__alpha  mean_train_rmse  mean_test_rmse  mean_train_r2  \\\n",
            "0            0.001000        -0.263458       -0.687978       0.992968   \n",
            "1            0.003162        -0.263717       -0.721010       0.992955   \n",
            "2            0.010000        -0.264942       -0.771358       0.992890   \n",
            "\n",
            "   mean_test_r2  \n",
            "0      0.588585  \n",
            "1      0.508695  \n",
            "2      0.372955  \n",
            "\n",
            "Ridge (tuned) Performance\n",
            " Train → RMSE: 0.298, MAE: 0.225, R²: 0.990\n",
            " Test  → RMSE: 1.194, MAE: 0.845, R²: 0.956\n",
            "\n",
            "CV Train R²: 0.993, CV Val R²: 0.589\n"
          ]
        }
      ]
    },
    {
      "cell_type": "markdown",
      "source": [
        "7.   RIDGE: TOP TEN FEATURE IMPORTANCE"
      ],
      "metadata": {
        "id": "mHdSaBqt7mmA"
      }
    },
    {
      "cell_type": "code",
      "source": [
        "coefs = pd.Series(best_model.named_steps['ridge'].coef_, index=X_train.columns)\n",
        "top10_r = coefs.abs().sort_values(ascending=False).head(10)\n",
        "\n",
        "print(\"\\nRidge Top-10 Features by |coef|:\")\n",
        "print(top10_r)\n",
        "\n",
        "# bar chart\n",
        "top10_r.sort_values().plot(kind='barh', figsize=(6,4))\n",
        "plt.title(\"Ridge Feature Importance\")\n",
        "plt.show()"
      ],
      "metadata": {
        "colab": {
          "base_uri": "https://localhost:8080/",
          "height": 617
        },
        "id": "Hze1FaxE7zfN",
        "outputId": "24cc9b4d-033c-4e31-d8e7-e0c7a464b30f"
      },
      "execution_count": 12,
      "outputs": [
        {
          "output_type": "stream",
          "name": "stdout",
          "text": [
            "\n",
            "Ridge Top-10 Features by |coef|:\n",
            "CPI_ma3                             5.698444\n",
            "Exchange_Rate(Naira to USD)_ma3     2.833180\n",
            "CPI_lag1                            2.505049\n",
            "Exchange_Rate(Naira to USD)_lag1    1.421349\n",
            "Exchange_Rate(Naira to USD)         0.968122\n",
            "Money_Supply_ma3                    0.927224\n",
            "Money_Supply                        0.463910\n",
            "monetary_policy_rate                0.383601\n",
            "Currency _in_Circulation            0.267346\n",
            "treasury_Bill_rate                  0.158070\n",
            "dtype: float64\n"
          ]
        },
        {
          "output_type": "display_data",
          "data": {
            "text/plain": [
              "<Figure size 600x400 with 1 Axes>"
            ],
            "image/png": "[encoded data removed]"
          },
          "metadata": {}
        }
      ]
    },
    {
      "cell_type": "markdown",
      "source": [
        "8.  TRAINING SVR DEFAULT"
      ],
      "metadata": {
        "id": "6SK3N8pX78bg"
      }
    },
    {
      "cell_type": "code",
      "source": [
        "svr_def = SVR()\n",
        "svr_def.fit(X_train_scaled, y_train)\n",
        "\n",
        "y_tr_s_def = svr_def.predict(X_train_scaled)\n",
        "y_te_s_def = svr_def.predict(X_test_scaled)\n",
        "\n",
        "print(\"\\nSVR (default) Performance\")\n",
        "print_metrics(\" Train\", y_train, y_tr_s_def)\n",
        "print_metrics(\" Test \", y_test,  y_te_s_def)"
      ],
      "metadata": {
        "colab": {
          "base_uri": "https://localhost:8080/"
        },
        "id": "iGBVASNt8Eyt",
        "outputId": "3b370058-1668-4032-b2e6-941d86648c97"
      },
      "execution_count": 13,
      "outputs": [
        {
          "output_type": "stream",
          "name": "stdout",
          "text": [
            "\n",
            "SVR (default) Performance\n",
            " Train → RMSE: 0.464, MAE: 0.256, R²: 0.976\n",
            " Test  → RMSE: 11.079, MAE: 9.138, R²: -2.794\n"
          ]
        }
      ]
    },
    {
      "cell_type": "markdown",
      "source": [
        "9. SVR TUNING"
      ],
      "metadata": {
        "id": "HmN_gi588IGt"
      }
    },
    {
      "cell_type": "code",
      "source": [
        "import numpy as np\n",
        "import pandas as pd\n",
        "import math\n",
        "\n",
        "from sklearn.pipeline import Pipeline\n",
        "from sklearn.preprocessing import StandardScaler\n",
        "from sklearn.svm import SVR\n",
        "from sklearn.model_selection import TimeSeriesSplit, GridSearchCV\n",
        "from sklearn.metrics import mean_squared_error, mean_absolute_error, r2_score\n",
        "\n",
        "# 1. Build the pipeline: scaling → SVR\n",
        "svr_pipeline = Pipeline([\n",
        "    (\"scaler\", StandardScaler()),\n",
        "    (\"svr\",    SVR(kernel=\"rbf\"))\n",
        "])\n",
        "\n",
        "# 2. Hyperparameter grid for C, epsilon, and gamma\n",
        "param_grid = {\n",
        "    \"svr__C\":       np.logspace(-2, 3, 6),       # 0.01 … 100\n",
        "    \"svr__epsilon\": [0.05, 0.1, 0.2, 0.3],       # tube widths\n",
        "    \"svr__gamma\":   [\"scale\", \"auto\"]            # kernel coefficient\n",
        "}\n",
        "\n",
        "# 3. Respect time order with TimeSeriesSplit\n",
        "tscv = TimeSeriesSplit(n_splits=4)\n",
        "\n",
        "# 4. Track multiple metrics; refit on RMSE\n",
        "scoring = {\n",
        "    \"rmse\": \"neg_root_mean_squared_error\",\n",
        "    \"mae\":  \"neg_mean_absolute_error\",\n",
        "    \"r2\":   \"r2\"\n",
        "}\n",
        "\n",
        "grid_svr = GridSearchCV(\n",
        "    estimator=svr_pipeline,\n",
        "    param_grid=param_grid,\n",
        "    cv=tscv,\n",
        "    scoring=scoring,\n",
        "    refit=\"rmse\",\n",
        "    return_train_score=True,\n",
        "    n_jobs=-1\n",
        ")\n",
        "\n",
        "# 5. Fit on training data\n",
        "grid_svr.fit(X_train, y_train)\n",
        "\n",
        "# 6. Extract best model and params\n",
        "best_svr   = grid_svr.best_estimator_\n",
        "best_params = grid_svr.best_params_\n",
        "print(\"Best SVR params (by CV RMSE):\", best_params)\n",
        "\n",
        "# 7. Evaluate on train & test\n",
        "y_pred_train = best_svr.predict(X_train)\n",
        "y_pred_test  = best_svr.predict(X_test)\n",
        "\n",
        "metrics = {\n",
        "    \"R2_train\":  r2_score(y_train, y_pred_train),\n",
        "    \"R2_test\":   r2_score(y_test,  y_pred_test),\n",
        "    \"MAE_test\":  mean_absolute_error(y_test,  y_pred_test),\n",
        "    \"RMSE_test\": math.sqrt(mean_squared_error(y_test, y_pred_test))\n",
        "}\n",
        "\n",
        "print(\"\\nHold-out performance:\")\n",
        "for name, val in metrics.items():\n",
        "    print(f\"  {name}: {val:.4f}\")\n",
        "\n",
        "# 8. (Optional) CV summary across alphas/epsilons/gammas\n",
        "cv_results = pd.DataFrame(grid_svr.cv_results_)\n",
        "cols = [\n",
        "    \"param_svr__C\", \"param_svr__epsilon\", \"param_svr__gamma\",\n",
        "    \"mean_train_rmse\", \"mean_test_rmse\",\n",
        "    \"mean_train_r2\",   \"mean_test_r2\"\n",
        "]\n",
        "print(\"\\nCV summary:\")\n",
        "print(cv_results[cols].sort_values(cols[:3]).to_string(index=False))"
      ],
      "metadata": {
        "id": "Dgej1ZGv-H0T"
      },
      "execution_count": null,
      "outputs": []
    },
    {
      "cell_type": "markdown",
      "source": [
        "10.  CROSSVALIDATION CHECK FOR GAPS"
      ],
      "metadata": {
        "id": "F9gHw0dg-Q1y"
      }
    },
    {
      "cell_type": "code",
      "source": [
        "cv_s = pd.DataFrame(grid_svr.cv_results_)\n",
        "top3_s = cv_s.sort_values('mean_test_rmse', ascending=False).head(3)\n",
        "\n",
        "print(\"\\nTop 3 SVR CV candidates (by RMSE):\")\n",
        "print(top3_s[['param_svr__C','param_svr__gamma','mean_train_rmse','mean_test_rmse', 'mean_train_r2', 'mean_test_r2']])\n",
        "\n",
        "# evaluate tuned SVR\n",
        "y_tr_s = best_svr.predict(X_train)\n",
        "y_te_s = best_svr.predict(X_test)\n",
        "\n",
        "print(\"\\nSVR (tuned) Performance\")\n",
        "print_metrics(\" Train\", y_train, y_tr_s)\n",
        "print_metrics(\" Test \", y_test,  y_te_s)\n",
        "\n",
        "# CV train vs CV val\n",
        "mask_s = (\n",
        "    (cv_s['param_svr__C']==best_svr.get_params()['svr__C']) &\n",
        "    (cv_s['param_svr__gamma']==best_svr.get_params()['svr__gamma'])\n",
        ")\n",
        "print(f\"\\nSVR CV Train R²: {cv_s.loc[mask_s,'mean_train_r2'].values[0]:.3f}, \"\n",
        "      f\"CV Val R²: {cv_s.loc[mask_s,'mean_test_r2'].values[0]:.3f}\")"
      ],
      "metadata": {
        "id": "rE5TC2FT-kAj"
      },
      "execution_count": null,
      "outputs": []
    },
    {
      "cell_type": "markdown",
      "source": [
        "11.  PLOTS"
      ],
      "metadata": {
        "id": "OdNucfCv-oIT"
      }
    },
    {
      "cell_type": "code",
      "source": [
        "# Actual vs Predicted (Ridge)\n",
        "y_hat_r = y_te_r\n",
        "plt.figure(figsize=(6,4))\n",
        "plt.scatter(y_test, y_hat_r, alpha=0.6)\n",
        "plt.plot([y_test.min(),y_test.max()],\n",
        "         [y_test.min(),y_test.max()],\n",
        "         'r--')\n",
        "plt.title(\"Actual vs Predicted (Ridge)\")\n",
        "plt.xlabel(\"Actual CPI\"); plt.ylabel(\"Predicted CPI\")\n",
        "plt.show()\n",
        "\n",
        "# Residuals vs Predicted (Ridge)\n",
        "resid_r = y_test - y_hat_r\n",
        "plt.figure(figsize=(6,4))\n",
        "plt.scatter(y_hat_r, resid_r, alpha=0.6)\n",
        "plt.hlines(0, y_hat_r.min(), y_hat_r.max(), colors='r', linestyles='dashed')\n",
        "plt.title(\"Residuals vs Predicted (Ridge)\")\n",
        "plt.xlabel(\"Predicted CPI\"); plt.ylabel(\"Residuals\")\n",
        "plt.show()\n",
        "\n",
        "# Actual vs Predicted (SVR)\n",
        "y_hat_s = y_te_s\n",
        "plt.figure(figsize=(6,4))\n",
        "plt.scatter(y_test, y_hat_s, alpha=0.6)\n",
        "plt.plot([y_test.min(),y_test.max()],\n",
        "         [y_test.min(),y_test.max()],\n",
        "         'r--')\n",
        "plt.title(\"Actual vs Predicted (SVR)\")\n",
        "plt.xlabel(\"Actual CPI\"); plt.ylabel(\"Predicted CPI\")\n",
        "plt.show()\n",
        "\n",
        "# Residuals vs Predicted (SVR)\n",
        "resid_s = y_test - y_hat_s\n",
        "plt.figure(figsize=(6,4))\n",
        "plt.scatter(y_hat_s, resid_s, alpha=0.6)\n",
        "plt.hlines(0, y_hat_s.min(), y_hat_s.max(), colors='r', linestyles='dashed')\n",
        "plt.title(\"Residuals vs Predicted (SVR)\")\n",
        "plt.xlabel(\"Predicted CPI\"); plt.ylabel(\"Residuals\")\n",
        "plt.show()"
      ],
      "metadata": {
        "id": "xmdXSTms-wrG"
      },
      "execution_count": null,
      "outputs": []
    },
    {
      "cell_type": "markdown",
      "source": [
        "12.   PERMUTATION IMPORTANCES"
      ],
      "metadata": {
        "id": "rrPMThPq_B7B"
      }
    },
    {
      "cell_type": "code",
      "source": [
        "imp = permutation_importance(best_svr, X_test_scaled, y_test,\n",
        "                             n_repeats=10, random_state=0)\n",
        "feat_imp = pd.Series(imp.importances_mean, index=X.columns)\n",
        "top10_s = feat_imp.sort_values(ascending=False).head(10)\n",
        "\n",
        "print(\"\\nSVR Permutation Top-10 Features:\")\n",
        "print(top10_s)\n",
        "\n",
        "top10_s.sort_values().plot(kind='barh', figsize=(6,4))\n",
        "plt.title(\"SVR Feature Importance\")\n",
        "plt.show()"
      ],
      "metadata": {
        "id": "FmHszxwJ_Bbh"
      },
      "execution_count": null,
      "outputs": []
    }
  ]
}